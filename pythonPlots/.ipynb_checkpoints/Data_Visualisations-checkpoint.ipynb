{
 "cells": [
  {
   "cell_type": "code",
   "execution_count": null,
   "id": "d8939d7a",
   "metadata": {},
   "outputs": [],
   "source": [
    "from bokeh.charts import Scatter, output_file, show\n",
    "import pandas\n",
    "\n",
    "\n",
    "data_fr=pandas.DatFrame(columns=[\"Col X\",\"Col Y\"])\n",
    "data_fr[\"Col X\"]=[1,5,9,7,4,5,6]\n",
    "data_fr[\"Col Y\"]=[5,7,8,6,3,4,7]\n",
    "\n",
    "p=Scatter(data_fr, x=\"Col X\", y=\"Col Y\",title=\"Graph_Name\", xlabel=\"xLabel\",ylabel=\"yLabel\")\n",
    "\n",
    "output_file(\"Scatter_charts.html\")\n",
    "\n",
    "show(p)\n"
   ]
  }
 ],
 "metadata": {
  "kernelspec": {
   "display_name": "Python 3 (ipykernel)",
   "language": "python",
   "name": "python3"
  },
  "language_info": {
   "codemirror_mode": {
    "name": "ipython",
    "version": 3
   },
   "file_extension": ".py",
   "mimetype": "text/x-python",
   "name": "python",
   "nbconvert_exporter": "python",
   "pygments_lexer": "ipython3",
   "version": "3.11.2"
  }
 },
 "nbformat": 4,
 "nbformat_minor": 5
}
